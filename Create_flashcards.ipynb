{
 "cells": [
  {
   "cell_type": "code",
   "execution_count": null,
   "id": "346a3490-ff82-4024-a242-55bd4ef378bc",
   "metadata": {},
   "outputs": [],
   "source": [
    "%load_ext autoreload\n",
    "%autoreload 2"
   ]
  },
  {
   "cell_type": "code",
   "execution_count": null,
   "id": "f1153509-4ff9-46e2-978f-1ba9c08d52e5",
   "metadata": {},
   "outputs": [],
   "source": [
    "import hsk_html_parser"
   ]
  },
  {
   "cell_type": "code",
   "execution_count": null,
   "id": "a35ea611-46ae-4777-8b1e-0328db054dd5",
   "metadata": {},
   "outputs": [],
   "source": [
    "with open(\"data/html_files/HSK_6.html\") as f:\n",
    "    html_file = \"\".join(f.readlines())"
   ]
  },
  {
   "cell_type": "markdown",
   "id": "d53ad6ad-139f-48ea-8960-18c53ab69048",
   "metadata": {},
   "source": [
    "# Creating Flashcards"
   ]
  },
  {
   "cell_type": "markdown",
   "id": "50293c95-df46-4fa7-a32e-2cbe5d237b4d",
   "metadata": {
    "jp-MarkdownHeadingCollapsed": true,
    "tags": []
   },
   "source": [
    "## English"
   ]
  },
  {
   "cell_type": "code",
   "execution_count": null,
   "id": "ece75d18-d920-46c5-8fa2-c53e969096f9",
   "metadata": {},
   "outputs": [],
   "source": [
    "parser = hsk_html_parser.HskHtmlParser()\n",
    "parser.feed(html_file)"
   ]
  },
  {
   "cell_type": "code",
   "execution_count": null,
   "id": "9a435673-06a3-4ce2-96ad-fa6523a18cf5",
   "metadata": {},
   "outputs": [],
   "source": [
    "# Classic HSK decks with automatic pinyin detection\n",
    "output_word = f\"xml_outputs/English/automatic_pinyin/HSK_{parser.content['hskLevel']}_word_list.xml\"\n",
    "parser.create_word_xml_automatic(output_word)\n",
    "output_sentence = f\"xml_outputs/English/automatic_pinyin/HSK_{parser.content['hskLevel']}_sentence_list.xml\"\n",
    "parser.create_sentence_xml_automatic(output_sentence)\n",
    "\n",
    "# Custom HSK decks with manual pinyin implementation\n",
    "output_word = f\"xml_outputs/English/HSK_{parser.content['hskLevel']}_word_list.xml\"\n",
    "parser.create_word_xml(output_word)\n",
    "output_sentence = f\"xml_outputs/English/HSK_{parser.content['hskLevel']}_sentence_list.xml\"\n",
    "parser.create_sentence_xml(output_sentence)"
   ]
  },
  {
   "cell_type": "markdown",
   "id": "bd88ee39-beb7-4e91-8338-297f725f4b4d",
   "metadata": {},
   "source": [
    "## French"
   ]
  },
  {
   "cell_type": "code",
   "execution_count": null,
   "id": "b843c3be-cbad-4e18-b2bb-3a5d7245fcad",
   "metadata": {},
   "outputs": [],
   "source": [
    "parser_french = hsk_html_parser.HskHtmlParser(translate_to_french=True, u8_file=\"data/cfdict.u8\")\n",
    "parser_french.feed(html_file)"
   ]
  },
  {
   "cell_type": "code",
   "execution_count": null,
   "id": "43989c34-1a83-49c2-847a-9caf669fcd2e",
   "metadata": {},
   "outputs": [],
   "source": [
    "# Classic HSK decks with automatic pinyin detection\n",
    "output_word = f\"xml_outputs/French/automatic_pinyin/HSK_{parser_french.content['hskLevel']}_word_list.xml\"\n",
    "parser_french.create_word_xml_automatic(output_word)\n",
    "\n",
    "# Custom HSK decks with manual pinyin implementation\n",
    "output_word = f\"xml_outputs/French/HSK_{parser_french.content['hskLevel']}_word_list.xml\"\n",
    "parser_french.create_word_xml(output_word)"
   ]
  },
  {
   "cell_type": "code",
   "execution_count": null,
   "id": "ea8e8a2c-d322-46b5-95e8-458494674ed9",
   "metadata": {},
   "outputs": [],
   "source": []
  }
 ],
 "metadata": {
  "kernelspec": {
   "display_name": "Python 3 (ipykernel)",
   "language": "python",
   "name": "python3"
  },
  "language_info": {
   "codemirror_mode": {
    "name": "ipython",
    "version": 3
   },
   "file_extension": ".py",
   "mimetype": "text/x-python",
   "name": "python",
   "nbconvert_exporter": "python",
   "pygments_lexer": "ipython3",
   "version": "3.9.13"
  }
 },
 "nbformat": 4,
 "nbformat_minor": 5
}
