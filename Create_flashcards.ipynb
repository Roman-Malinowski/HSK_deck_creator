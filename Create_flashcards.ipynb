{
 "cells": [
  {
   "cell_type": "code",
   "execution_count": null,
   "id": "f1153509-4ff9-46e2-978f-1ba9c08d52e5",
   "metadata": {},
   "outputs": [],
   "source": [
    "from hsk_html_parser import HskHtmlParser, HskHtmlParserFrench"
   ]
  },
  {
   "cell_type": "markdown",
   "id": "d53ad6ad-139f-48ea-8960-18c53ab69048",
   "metadata": {},
   "source": [
    "# Creating Flashcards"
   ]
  },
  {
   "cell_type": "markdown",
   "id": "50293c95-df46-4fa7-a32e-2cbe5d237b4d",
   "metadata": {},
   "source": [
    "## English"
   ]
  },
  {
   "cell_type": "code",
   "execution_count": null,
   "id": "a35ea611-46ae-4777-8b1e-0328db054dd5",
   "metadata": {},
   "outputs": [],
   "source": [
    "with open(\"data/html_files/HSK_6.html\") as f:\n",
    "    html_file = \"\".join(f.readlines())\n",
    "\n",
    "parser = HskHtmlParser()\n",
    "parser.feed(html_file)"
   ]
  },
  {
   "cell_type": "markdown",
   "id": "edabf691-0029-46b0-b50b-b3234fd7556b",
   "metadata": {},
   "source": [
    "# Creating the decks"
   ]
  },
  {
   "cell_type": "code",
   "execution_count": null,
   "id": "9a435673-06a3-4ce2-96ad-fa6523a18cf5",
   "metadata": {},
   "outputs": [],
   "source": [
    "# Classic HSK decks with automatic pinyin detection\n",
    "output_word = f\"xml_outputs/French/automatic_pinyin/HSK_{parser.dict_content['hskLevel']}_word_list.xml\"\n",
    "parser.create_word_xml_automatic(output_word)\n",
    "\n",
    "# Custom HSK decks with manual pinyin implementation\n",
    "output_word = f\"xml_outputs/French/HSK_{parser.dict_content['hskLevel']}_word_list.xml\"\n",
    "parser.create_word_xml(output_word)"
   ]
  },
  {
   "cell_type": "markdown",
   "id": "bd88ee39-beb7-4e91-8338-297f725f4b4d",
   "metadata": {},
   "source": [
    "## French"
   ]
  },
  {
   "cell_type": "code",
   "execution_count": null,
   "id": "0f19ae8c-4398-43c2-b535-11cdb7c2f6f3",
   "metadata": {},
   "outputs": [],
   "source": [
    "with open(\"data/html_files/HSK_6.html\") as f:\n",
    "    html_file = \"\".join(f.readlines())\n",
    "\n",
    "parser = HskHtmlParserFrench(\"data/cfdict.u8\")\n",
    "parser.feed(html_file)"
   ]
  },
  {
   "cell_type": "code",
   "execution_count": null,
   "id": "43989c34-1a83-49c2-847a-9caf669fcd2e",
   "metadata": {},
   "outputs": [],
   "source": [
    "# Classic HSK decks with automatic pinyin detection\n",
    "output_word = f\"xml_outputs/French/automatic_pinyin/HSK_{parser.dict_content['hskLevel']}_word_list.xml\"\n",
    "parser.create_word_xml_automatic(output_word)\n",
    "\n",
    "# Custom HSK decks with manual pinyin implementation\n",
    "output_word = f\"xml_outputs/French/HSK_{parser.dict_content['hskLevel']}_word_list.xml\"\n",
    "parser.create_word_xml(output_word)"
   ]
  },
  {
   "cell_type": "code",
   "execution_count": null,
   "id": "72dc9a9b-0c03-4e1e-b980-473b719ec338",
   "metadata": {},
   "outputs": [],
   "source": [
    "card = ET.SubElement(cards, \"card\")\n",
    "ET.SubElement(card, \"text\", attrib={\"name\": \"Front\"}).text = \"TEST 1\"\n",
    "ET.SubElement(card, \"text\", attrib={\"name\": \"Back\"}).text = \"TEST 2\"\n",
    "pinyin = ET.SubElement(card, \"rich-text\", attrib={\"name\": \"Pinyin\"})\n",
    "ET.SubElement(pinyin, \"i\").text = \"TEST 3\"\n",
    "            \n",
    "deck_tree = ET.ElementTree(deck)\n",
    "ET.dump(deck_tree)"
   ]
  },
  {
   "cell_type": "code",
   "execution_count": null,
   "id": "be2f657f-ac4e-492d-8995-f15bca63cbcc",
   "metadata": {},
   "outputs": [],
   "source": []
  }
 ],
 "metadata": {
  "kernelspec": {
   "display_name": "Python 3 (ipykernel)",
   "language": "python",
   "name": "python3"
  },
  "language_info": {
   "codemirror_mode": {
    "name": "ipython",
    "version": 3
   },
   "file_extension": ".py",
   "mimetype": "text/x-python",
   "name": "python",
   "nbconvert_exporter": "python",
   "pygments_lexer": "ipython3",
   "version": "3.9.13"
  }
 },
 "nbformat": 4,
 "nbformat_minor": 5
}
